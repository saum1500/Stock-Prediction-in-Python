{
  "nbformat": 4,
  "nbformat_minor": 0,
  "metadata": {
    "colab": {
      "name": "Stock Prediction.ipynb",
      "provenance": [],
      "collapsed_sections": [],
      "authorship_tag": "ABX9TyNekNQdMk5blcHxJY5BNw5d",
      "include_colab_link": true
    },
    "kernelspec": {
      "name": "python3",
      "display_name": "Python 3"
    }
  },
  "cells": [
    {
      "cell_type": "markdown",
      "metadata": {
        "id": "view-in-github",
        "colab_type": "text"
      },
      "source": [
        "<a href=\"https://colab.research.google.com/github/saum1500/Stock-Prediction-in-Python/blob/master/Stock_Prediction.ipynb\" target=\"_parent\"><img src=\"https://colab.research.google.com/assets/colab-badge.svg\" alt=\"Open In Colab\"/></a>"
      ]
    },
    {
      "cell_type": "code",
      "metadata": {
        "id": "Tnx6baHe-3BB",
        "colab_type": "code",
        "colab": {}
      },
      "source": [
        "import numpy as np\n",
        "import datetime as dt\n",
        "import matplotlib.pyplot as plt\n",
        "from matplotlib import style\n",
        "import pandas as pd\n",
        "import pandas_datareader.data as web\n",
        "import mplfinance as mpf"
      ],
      "execution_count": 0,
      "outputs": []
    },
    {
      "cell_type": "code",
      "metadata": {
        "id": "DvNiEZlbnegA",
        "colab_type": "code",
        "colab": {
          "base_uri": "https://localhost:8080/",
          "height": 252
        },
        "outputId": "fb75c8af-4f2f-4a31-8c69-29f371c95ba0"
      },
      "source": [
        "#getting data from yahoo  storing it in a csv and then reading it as a pandas dataframe\n",
        "start = dt.datetime(2000,1,1)\n",
        "end = dt.datetime(2019,12,31)\n",
        "df = web.DataReader('AAPL', 'yahoo', start,end)\n",
        "df.to_csv('apple.csv')\n",
        "df = pd.read_csv('apple.csv',parse_dates = True, index_col =0)\n",
        "print(df.shape) #5031 trading days are in this dataset\n",
        "df.head()"
      ],
      "execution_count": 93,
      "outputs": [
        {
          "output_type": "stream",
          "text": [
            "(5031, 6)\n"
          ],
          "name": "stdout"
        },
        {
          "output_type": "execute_result",
          "data": {
            "text/html": [
              "<div>\n",
              "<style scoped>\n",
              "    .dataframe tbody tr th:only-of-type {\n",
              "        vertical-align: middle;\n",
              "    }\n",
              "\n",
              "    .dataframe tbody tr th {\n",
              "        vertical-align: top;\n",
              "    }\n",
              "\n",
              "    .dataframe thead th {\n",
              "        text-align: right;\n",
              "    }\n",
              "</style>\n",
              "<table border=\"1\" class=\"dataframe\">\n",
              "  <thead>\n",
              "    <tr style=\"text-align: right;\">\n",
              "      <th></th>\n",
              "      <th>High</th>\n",
              "      <th>Low</th>\n",
              "      <th>Open</th>\n",
              "      <th>Close</th>\n",
              "      <th>Volume</th>\n",
              "      <th>Adj Close</th>\n",
              "    </tr>\n",
              "    <tr>\n",
              "      <th>Date</th>\n",
              "      <th></th>\n",
              "      <th></th>\n",
              "      <th></th>\n",
              "      <th></th>\n",
              "      <th></th>\n",
              "      <th></th>\n",
              "    </tr>\n",
              "  </thead>\n",
              "  <tbody>\n",
              "    <tr>\n",
              "      <th>2000-01-03</th>\n",
              "      <td>4.017857</td>\n",
              "      <td>3.631696</td>\n",
              "      <td>3.745536</td>\n",
              "      <td>3.997768</td>\n",
              "      <td>133949200.0</td>\n",
              "      <td>3.460857</td>\n",
              "    </tr>\n",
              "    <tr>\n",
              "      <th>2000-01-04</th>\n",
              "      <td>3.950893</td>\n",
              "      <td>3.613839</td>\n",
              "      <td>3.866071</td>\n",
              "      <td>3.660714</td>\n",
              "      <td>128094400.0</td>\n",
              "      <td>3.169071</td>\n",
              "    </tr>\n",
              "    <tr>\n",
              "      <th>2000-01-05</th>\n",
              "      <td>3.948661</td>\n",
              "      <td>3.678571</td>\n",
              "      <td>3.705357</td>\n",
              "      <td>3.714286</td>\n",
              "      <td>194580400.0</td>\n",
              "      <td>3.215448</td>\n",
              "    </tr>\n",
              "    <tr>\n",
              "      <th>2000-01-06</th>\n",
              "      <td>3.821429</td>\n",
              "      <td>3.392857</td>\n",
              "      <td>3.790179</td>\n",
              "      <td>3.392857</td>\n",
              "      <td>191993200.0</td>\n",
              "      <td>2.937188</td>\n",
              "    </tr>\n",
              "    <tr>\n",
              "      <th>2000-01-07</th>\n",
              "      <td>3.607143</td>\n",
              "      <td>3.410714</td>\n",
              "      <td>3.446429</td>\n",
              "      <td>3.553571</td>\n",
              "      <td>115183600.0</td>\n",
              "      <td>3.076317</td>\n",
              "    </tr>\n",
              "  </tbody>\n",
              "</table>\n",
              "</div>"
            ],
            "text/plain": [
              "                High       Low      Open     Close       Volume  Adj Close\n",
              "Date                                                                      \n",
              "2000-01-03  4.017857  3.631696  3.745536  3.997768  133949200.0   3.460857\n",
              "2000-01-04  3.950893  3.613839  3.866071  3.660714  128094400.0   3.169071\n",
              "2000-01-05  3.948661  3.678571  3.705357  3.714286  194580400.0   3.215448\n",
              "2000-01-06  3.821429  3.392857  3.790179  3.392857  191993200.0   2.937188\n",
              "2000-01-07  3.607143  3.410714  3.446429  3.553571  115183600.0   3.076317"
            ]
          },
          "metadata": {
            "tags": []
          },
          "execution_count": 93
        }
      ]
    },
    {
      "cell_type": "code",
      "metadata": {
        "id": "hYgQSilKkWSh",
        "colab_type": "code",
        "colab": {
          "base_uri": "https://localhost:8080/",
          "height": 235
        },
        "outputId": "4ec057f3-dc1f-48c2-f21b-b1747bde09bd"
      },
      "source": [
        "# getting moving averages of 100 days\n",
        "df['100 days Moving Average'] = df['Adj Close'].rolling(window=100).mean()\n",
        "df.dropna(inplace=True)\n",
        "df.head()"
      ],
      "execution_count": 94,
      "outputs": [
        {
          "output_type": "execute_result",
          "data": {
            "text/html": [
              "<div>\n",
              "<style scoped>\n",
              "    .dataframe tbody tr th:only-of-type {\n",
              "        vertical-align: middle;\n",
              "    }\n",
              "\n",
              "    .dataframe tbody tr th {\n",
              "        vertical-align: top;\n",
              "    }\n",
              "\n",
              "    .dataframe thead th {\n",
              "        text-align: right;\n",
              "    }\n",
              "</style>\n",
              "<table border=\"1\" class=\"dataframe\">\n",
              "  <thead>\n",
              "    <tr style=\"text-align: right;\">\n",
              "      <th></th>\n",
              "      <th>High</th>\n",
              "      <th>Low</th>\n",
              "      <th>Open</th>\n",
              "      <th>Close</th>\n",
              "      <th>Volume</th>\n",
              "      <th>Adj Close</th>\n",
              "      <th>100 days Moving Average</th>\n",
              "    </tr>\n",
              "    <tr>\n",
              "      <th>Date</th>\n",
              "      <th></th>\n",
              "      <th></th>\n",
              "      <th></th>\n",
              "      <th></th>\n",
              "      <th></th>\n",
              "      <th></th>\n",
              "      <th></th>\n",
              "    </tr>\n",
              "  </thead>\n",
              "  <tbody>\n",
              "    <tr>\n",
              "      <th>2000-05-24</th>\n",
              "      <td>3.205357</td>\n",
              "      <td>2.964286</td>\n",
              "      <td>3.078125</td>\n",
              "      <td>3.131696</td>\n",
              "      <td>169615600.0</td>\n",
              "      <td>2.711102</td>\n",
              "      <td>3.545384</td>\n",
              "    </tr>\n",
              "    <tr>\n",
              "      <th>2000-05-25</th>\n",
              "      <td>3.309152</td>\n",
              "      <td>3.071429</td>\n",
              "      <td>3.160714</td>\n",
              "      <td>3.116629</td>\n",
              "      <td>101687600.0</td>\n",
              "      <td>2.698057</td>\n",
              "      <td>3.537756</td>\n",
              "    </tr>\n",
              "    <tr>\n",
              "      <th>2000-05-26</th>\n",
              "      <td>3.209821</td>\n",
              "      <td>3.044643</td>\n",
              "      <td>3.142857</td>\n",
              "      <td>3.084821</td>\n",
              "      <td>45287200.0</td>\n",
              "      <td>2.670522</td>\n",
              "      <td>3.532770</td>\n",
              "    </tr>\n",
              "    <tr>\n",
              "      <th>2000-05-30</th>\n",
              "      <td>3.147321</td>\n",
              "      <td>2.919643</td>\n",
              "      <td>3.129464</td>\n",
              "      <td>3.127232</td>\n",
              "      <td>178264800.0</td>\n",
              "      <td>2.707237</td>\n",
              "      <td>3.527688</td>\n",
              "    </tr>\n",
              "    <tr>\n",
              "      <th>2000-05-31</th>\n",
              "      <td>3.258929</td>\n",
              "      <td>2.993304</td>\n",
              "      <td>3.102679</td>\n",
              "      <td>3.000000</td>\n",
              "      <td>108376800.0</td>\n",
              "      <td>2.597093</td>\n",
              "      <td>3.524287</td>\n",
              "    </tr>\n",
              "  </tbody>\n",
              "</table>\n",
              "</div>"
            ],
            "text/plain": [
              "                High       Low  ...  Adj Close  100 days Moving Average\n",
              "Date                            ...                                    \n",
              "2000-05-24  3.205357  2.964286  ...   2.711102                 3.545384\n",
              "2000-05-25  3.309152  3.071429  ...   2.698057                 3.537756\n",
              "2000-05-26  3.209821  3.044643  ...   2.670522                 3.532770\n",
              "2000-05-30  3.147321  2.919643  ...   2.707237                 3.527688\n",
              "2000-05-31  3.258929  2.993304  ...   2.597093                 3.524287\n",
              "\n",
              "[5 rows x 7 columns]"
            ]
          },
          "metadata": {
            "tags": []
          },
          "execution_count": 94
        }
      ]
    },
    {
      "cell_type": "code",
      "metadata": {
        "id": "BOg1pYDCsCtV",
        "colab_type": "code",
        "colab": {
          "base_uri": "https://localhost:8080/",
          "height": 266
        },
        "outputId": "fcbc4305-3880-4c78-d003-ce413f4c0d60"
      },
      "source": [
        "# visualizing the moving averages using subplots which are called axes\n",
        "ax1 = plt.subplot2grid((6,1), (0,0), rowspan=5, colspan=1) #(6,1) -> 6 rows, 1 column (grid size), (0,0) starting coordinate\n",
        "ax2 = plt.subplot2grid((6,1), (5,0), rowspan=1, colspan=1, sharex=ax1) #sharex actually makes their x axes separate\n",
        "\n",
        "ax1.plot(df.index, df['100 days Moving Average'])\n",
        "ax1.plot(df.index, df['Adj Close'])\n",
        "ax2.plot(df.index,df['Volume'])\n",
        "plt.show()"
      ],
      "execution_count": 95,
      "outputs": [
        {
          "output_type": "display_data",
          "data": {
            "image/png": "[encoded data removed]",
            "text/plain": [
              "<Figure size 432x288 with 2 Axes>"
            ]
          },
          "metadata": {
            "tags": [],
            "needs_background": "light"
          }
        }
      ]
    },
    {
      "cell_type": "code",
      "metadata": {
        "id": "5abB8yF8D8xU",
        "colab_type": "code",
        "colab": {
          "base_uri": "https://localhost:8080/",
          "height": 153
        },
        "outputId": "e37c4926-cedf-41c6-a28a-040a7fded7bd"
      },
      "source": [
        " # creating a resampled dataset, the resample function is used to resample timeseries data\n",
        " df_resampled = df['Adj Close'].resample('20D').ohlc() # ohlc does not sum or mean the values of 20 days, but takes the open high low close data\n",
        " df_resampled['Volume'] = df['Volume'].resample('20D').mean()\n",
        " df_resampled.columns=['Open', 'High','Low','Close','Volume']\n",
        " print(df_resampled.head())\n",
        " print(df_resampled.shape) # condensed to 717 entries.\n"
      ],
      "execution_count": 99,
      "outputs": [
        {
          "output_type": "stream",
          "text": [
            "                Open      High       Low     Close        Volume\n",
            "Date                                                            \n",
            "2000-05-24  2.711102  2.985497  2.597093  2.819314  1.168655e+08\n",
            "2000-06-13  2.921729  3.439602  2.796125  3.238636  7.930580e+07\n",
            "2000-07-03  3.296607  3.640566  3.192259  3.312065  7.543470e+07\n",
            "2000-07-23  3.010617  3.215448  2.890811  2.948782  6.097532e+07\n",
            "2000-08-12  2.910135  3.768103  2.886945  3.768103  6.249990e+07\n",
            "(359, 5)\n"
          ],
          "name": "stdout"
        }
      ]
    },
    {
      "cell_type": "code",
      "metadata": {
        "id": "iwha9PTlV0Md",
        "colab_type": "code",
        "colab": {}
      },
      "source": [
        "# making the dataset compatible to ohlc charting by creating an index and creating mdates \n",
        "#df_resampled.reset_index(inplace=True) # makes dates a column and creates a separate index\n",
        "#df_resampled['mDate'] = df_resampled['Date'].map(mdates.date2num)\n",
        "#df_resampled.head(4)"
      ],
      "execution_count": 0,
      "outputs": []
    },
    {
      "cell_type": "code",
      "metadata": {
        "id": "GpBvoido5inU",
        "colab_type": "code",
        "colab": {
          "base_uri": "https://localhost:8080/",
          "height": 724
        },
        "outputId": "9f1825cb-a5ee-45b5-ca2c-19570be8a410"
      },
      "source": [
        "mpf.plot(df_resampled, type = 'candle', style='charles', volume=True)\n",
        "mpf.plot(df_resampled.tail(), type = 'candle', style='charles', volume=True) # to show the zomed in version"
      ],
      "execution_count": 107,
      "outputs": [
        {
          "output_type": "display_data",
          "data": {
            "image/png": "[encoded data removed]",
            "text/plain": [
              "<Figure size 576x414 with 4 Axes>"
            ]
          },
          "metadata": {
            "tags": [],
            "needs_background": "light"
          }
        },
        {
          "output_type": "display_data",
          "data": {
            "image/png": "[encoded data removed]",
            "text/plain": [
              "<Figure size 576x414 with 4 Axes>"
            ]
          },
          "metadata": {
            "tags": [],
            "needs_background": "light"
          }
        }
      ]
    },
    {
      "cell_type": "code",
      "metadata": {
        "id": "4aF_H5708j1D",
        "colab_type": "code",
        "colab": {}
      },
      "source": [
        ""
      ],
      "execution_count": 0,
      "outputs": []
    }
  ]
}